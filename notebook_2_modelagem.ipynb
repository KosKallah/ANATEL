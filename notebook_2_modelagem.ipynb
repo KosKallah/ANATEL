{
 "cells": [
  {
   "cell_type": "markdown",
   "metadata": {},
   "source": [
    "# Modelagem dos Textos Descritivos das Empresas"
   ]
  },
  {
   "cell_type": "markdown",
   "metadata": {},
   "source": [
    "Embeddings vão ser utilizados para montar um espaço vetorial com distãncias em relação às frases que qualificam os alvos, como listadas no exercício.\n",
    "\n",
    "Em seguida, as empresas serão clusterizadas dentro desse espaço de uma forma que enfatize a diferença entre as descrições que estão no alvo da tarefa e as que não estão."
   ]
  },
  {
   "cell_type": "markdown",
   "metadata": {},
   "source": [
    "## 1. Setup"
   ]
  },
  {
   "cell_type": "code",
   "execution_count": 278,
   "metadata": {},
   "outputs": [],
   "source": [
    "import pandas as pd\n",
    "import nltk\n",
    "import tensorflow_hub as hub\n",
    "import numpy as np\n",
    "from typing import Callable\n",
    "from tqdm import tqdm\n",
    "import string\n",
    "import matplotlib.pyplot as plt\n",
    "from sklearn.cluster import DBSCAN, KMeans\n",
    "from sklearn.mixture import GaussianMixture\n",
    "import matplotlib.colors\n",
    "from sklearn.metrics import pairwise_distances"
   ]
  },
  {
   "cell_type": "code",
   "execution_count": 2,
   "metadata": {},
   "outputs": [
    {
     "name": "stderr",
     "output_type": "stream",
     "text": [
      "[nltk_data] Downloading package stopwords to\n",
      "[nltk_data]     C:\\Users\\julio\\AppData\\Roaming\\nltk_data...\n",
      "[nltk_data]   Package stopwords is already up-to-date!\n",
      "[nltk_data] Downloading package punkt to\n",
      "[nltk_data]     C:\\Users\\julio\\AppData\\Roaming\\nltk_data...\n",
      "[nltk_data]   Package punkt is already up-to-date!\n"
     ]
    },
    {
     "data": {
      "text/plain": [
       "(True, True)"
      ]
     },
     "execution_count": 2,
     "metadata": {},
     "output_type": "execute_result"
    }
   ],
   "source": [
    "(nltk.download('stopwords'), nltk.download('punkt'))"
   ]
  },
  {
   "cell_type": "code",
   "execution_count": 3,
   "metadata": {},
   "outputs": [
    {
     "name": "stdout",
     "output_type": "stream",
     "text": [
      "WARNING:tensorflow:From c:\\Users\\julio\\AppData\\Local\\Programs\\Python\\Python311\\Lib\\site-packages\\tensorflow_hub\\resolver.py:120: The name tf.gfile.MakeDirs is deprecated. Please use tf.io.gfile.makedirs instead.\n",
      "\n"
     ]
    },
    {
     "name": "stderr",
     "output_type": "stream",
     "text": [
      "WARNING:tensorflow:From c:\\Users\\julio\\AppData\\Local\\Programs\\Python\\Python311\\Lib\\site-packages\\tensorflow_hub\\resolver.py:120: The name tf.gfile.MakeDirs is deprecated. Please use tf.io.gfile.makedirs instead.\n",
      "\n"
     ]
    },
    {
     "name": "stdout",
     "output_type": "stream",
     "text": [
      "WARNING:tensorflow:From c:\\Users\\julio\\AppData\\Local\\Programs\\Python\\Python311\\Lib\\site-packages\\tensorflow_hub\\module_v2.py:120: The name tf.saved_model.load_v2 is deprecated. Please use tf.compat.v2.saved_model.load instead.\n",
      "\n"
     ]
    },
    {
     "name": "stderr",
     "output_type": "stream",
     "text": [
      "WARNING:tensorflow:From c:\\Users\\julio\\AppData\\Local\\Programs\\Python\\Python311\\Lib\\site-packages\\tensorflow_hub\\module_v2.py:120: The name tf.saved_model.load_v2 is deprecated. Please use tf.compat.v2.saved_model.load instead.\n",
      "\n"
     ]
    }
   ],
   "source": [
    "use = hub.load(\"https://tfhub.dev/google/universal-sentence-encoder/4\")"
   ]
  },
  {
   "cell_type": "markdown",
   "metadata": {},
   "source": [
    "## 2. Aquisição dos Dados"
   ]
  },
  {
   "cell_type": "code",
   "execution_count": 4,
   "metadata": {},
   "outputs": [
    {
     "data": {
      "text/html": [
       "<div>\n",
       "<style scoped>\n",
       "    .dataframe tbody tr th:only-of-type {\n",
       "        vertical-align: middle;\n",
       "    }\n",
       "\n",
       "    .dataframe tbody tr th {\n",
       "        vertical-align: top;\n",
       "    }\n",
       "\n",
       "    .dataframe thead th {\n",
       "        text-align: right;\n",
       "    }\n",
       "</style>\n",
       "<table border=\"1\" class=\"dataframe\">\n",
       "  <thead>\n",
       "    <tr style=\"text-align: right;\">\n",
       "      <th></th>\n",
       "      <th>Unnamed: 0</th>\n",
       "      <th>Index</th>\n",
       "      <th>Name</th>\n",
       "      <th>Description</th>\n",
       "      <th>Employees</th>\n",
       "      <th>Funding</th>\n",
       "      <th>City</th>\n",
       "      <th>Subcountry</th>\n",
       "      <th>Latitude</th>\n",
       "      <th>Longitude</th>\n",
       "    </tr>\n",
       "  </thead>\n",
       "  <tbody>\n",
       "    <tr>\n",
       "      <th>0</th>\n",
       "      <td>0</td>\n",
       "      <td>1</td>\n",
       "      <td>fitin</td>\n",
       "      <td>fitin is the latest fit tech platform that pro...</td>\n",
       "      <td>1.0</td>\n",
       "      <td>NaN</td>\n",
       "      <td>toronto</td>\n",
       "      <td>ontario</td>\n",
       "      <td>43.70011</td>\n",
       "      <td>79.416300</td>\n",
       "    </tr>\n",
       "    <tr>\n",
       "      <th>1</th>\n",
       "      <td>1</td>\n",
       "      <td>2</td>\n",
       "      <td>quinditech</td>\n",
       "      <td>our services include independent   collaborati...</td>\n",
       "      <td>10.0</td>\n",
       "      <td>NaN</td>\n",
       "      <td>montreal</td>\n",
       "      <td>quebec</td>\n",
       "      <td>45.50884</td>\n",
       "      <td>73.587810</td>\n",
       "    </tr>\n",
       "    <tr>\n",
       "      <th>2</th>\n",
       "      <td>2</td>\n",
       "      <td>3</td>\n",
       "      <td>botfirst</td>\n",
       "      <td>chatlanding is a digital chatbot platform wher...</td>\n",
       "      <td>1.0</td>\n",
       "      <td>NaN</td>\n",
       "      <td>toronto</td>\n",
       "      <td>ontario</td>\n",
       "      <td>43.70011</td>\n",
       "      <td>79.416300</td>\n",
       "    </tr>\n",
       "    <tr>\n",
       "      <th>3</th>\n",
       "      <td>3</td>\n",
       "      <td>4</td>\n",
       "      <td>ravver</td>\n",
       "      <td>ai powered army of health professionals in you...</td>\n",
       "      <td>1.0</td>\n",
       "      <td>NaN</td>\n",
       "      <td>quebec</td>\n",
       "      <td>quebec</td>\n",
       "      <td>46.82596</td>\n",
       "      <td>71.235223</td>\n",
       "    </tr>\n",
       "    <tr>\n",
       "      <th>4</th>\n",
       "      <td>4</td>\n",
       "      <td>5</td>\n",
       "      <td>stylify</td>\n",
       "      <td>stylify is a mobile platform that connects peo...</td>\n",
       "      <td>1.0</td>\n",
       "      <td>NaN</td>\n",
       "      <td>toronto</td>\n",
       "      <td>ontario</td>\n",
       "      <td>43.70011</td>\n",
       "      <td>79.416300</td>\n",
       "    </tr>\n",
       "  </tbody>\n",
       "</table>\n",
       "</div>"
      ],
      "text/plain": [
       "   Unnamed: 0  Index         Name  \\\n",
       "0           0      1       fitin    \n",
       "1           1      2  quinditech    \n",
       "2           2      3    botfirst    \n",
       "3           3      4       ravver   \n",
       "4           4      5     stylify    \n",
       "\n",
       "                                         Description  Employees  Funding  \\\n",
       "0  fitin is the latest fit tech platform that pro...        1.0      NaN   \n",
       "1  our services include independent   collaborati...       10.0      NaN   \n",
       "2  chatlanding is a digital chatbot platform wher...        1.0      NaN   \n",
       "3  ai powered army of health professionals in you...        1.0      NaN   \n",
       "4  stylify is a mobile platform that connects peo...        1.0      NaN   \n",
       "\n",
       "       City Subcountry  Latitude  Longitude  \n",
       "0   toronto    ontario  43.70011  79.416300  \n",
       "1  montreal     quebec  45.50884  73.587810  \n",
       "2   toronto    ontario  43.70011  79.416300  \n",
       "3    quebec     quebec  46.82596  71.235223  \n",
       "4   toronto    ontario  43.70011  79.416300  "
      ]
     },
     "execution_count": 4,
     "metadata": {},
     "output_type": "execute_result"
    }
   ],
   "source": [
    "data = pd.read_csv('Dados\\\\clean_data.csv')\n",
    "data.head()"
   ]
  },
  {
   "cell_type": "markdown",
   "metadata": {},
   "source": [
    "## 3. Engenharia de Features"
   ]
  },
  {
   "cell_type": "markdown",
   "metadata": {},
   "source": [
    "A ideia é tomar as descrições das empresas e gerar blocos com um certo número de palavras e com intersecção, a partir dos quais uma distância possa ser calculada em relação a cada uma das frases que limitam o target.\n",
    "\n",
    "Para a geração dos blocos, serão removidas stop-words, já que se está buscando apenas uma distância em espaço semântico, não sendo necessário gerar linguagem ou extrair significados complexos.\n",
    "\n",
    "A intersecção entre os blocos terá o efeito de uma janela correndo sobre a descrição da empresa, ou seja: uma convolução sobre aquela descrição.\n",
    "\n",
    "Uma vez de posse dos blocos e das distâncias, para cada descrição de empresa, os pares (bloco ; frase descritiva de target) com menor distância serão tomados e suas distâncias selecionadas como features.\n",
    "\n",
    "O número de palavras contido em cada bloco, o tamanho da intersecção e o número de distâncias selecionadas como features para cada empresa serão hiperparãmetros. Uma outra escolha arbitrária será a do embedding a ser usado para cálculo das distâncias."
   ]
  },
  {
   "cell_type": "markdown",
   "metadata": {},
   "source": [
    "Com isso, espera-se criar um espaço semântico de dimensionalidade baixa, onde o posicionamento de cada empresa se dará a partir da presença ou não de blocos de texto que se assemelhem aos contidos nos textos que limitam o target (os textos dados na descrição do exercício).\n",
    "\n",
    "Note-se que, em geral, espaços semânticos são construídos com dimensionalidade alta, mas isso se dá porque as combinações de proximidade e distanciamento na identificação do valor semântico de cada token em um corpus são mais facilmente construídas em um espaço de alta dimensionalidade. Aqui o que se pretente é apenas separar um conjunto muito pequeno de classes de significado e isso pode ser bem realizado (e muito mais facilmente visualizado) em um espaço vetorial de baixa dimensionalidade.\n",
    "\n",
    "A hipótese aqui é a de que, após construído o espaço e posicionados os pontos representativos de cada descrição, empresas com descrições que possuam blocos semelhantes aos do target ficarão comprimidas na proximidade da origem do espaço semântico, enquanto que empresas com descrições que não contenham blocos semelhantes aos do target ficarão dispersas em um \"halo externo\", mais distante da origem.\n",
    "\n",
    "A partir daí, um procedimento de clustering (ou mesmo a simples construção de um intervalo - um círculo em torno da origem cujo raio separa as empresas do target das que não são de interesse) pode ser usado e as empresas serão, então, separadas por ele."
   ]
  },
  {
   "cell_type": "markdown",
   "metadata": {},
   "source": [
    "Após separadas as empresas, pode-se avaliar a qualidade da separação através de um teste de hipótese onde H0 seja que a média das distâncias NÃO seja significativamente diferente entre as do halo e as do centro; H1 sendo o contrário.\n",
    "\n",
    "Adicionalmente, uma amostra de cada lado pode ser tomada, identificand-se visualmente se cada elemento é ou não pertencente ao target, gerando um proxy de matriz de confusão."
   ]
  },
  {
   "cell_type": "markdown",
   "metadata": {},
   "source": [
    "### 3.1. Pré-processamento"
   ]
  },
  {
   "cell_type": "code",
   "execution_count": 5,
   "metadata": {},
   "outputs": [],
   "source": [
    "remove = set(nltk.corpus.stopwords.words('english')).union(set(string.punctuation))\n",
    "emphasize = set(['water', 'hydric', 'wastewater'])"
   ]
  },
  {
   "cell_type": "code",
   "execution_count": 6,
   "metadata": {},
   "outputs": [],
   "source": [
    "def pre_process(description:str):\n",
    "    tkn = nltk.tokenize.word_tokenize(description)\n",
    "\n",
    "    filtered = [w + (' ' + w if w in emphasize else '') for w in tkn if w not in remove]\n",
    "\n",
    "    result = ' '.join(filtered)\n",
    "\n",
    "    return result"
   ]
  },
  {
   "cell_type": "code",
   "execution_count": 7,
   "metadata": {},
   "outputs": [
    {
     "data": {
      "text/plain": [
       "'This water water system manages hydric hydric resourses including wastewater wastewater'"
      ]
     },
     "execution_count": 7,
     "metadata": {},
     "output_type": "execute_result"
    }
   ],
   "source": [
    "desc = 'This is a water system, that manages: hydric resourses including wastewater.'\n",
    "pre_process(desc)"
   ]
  },
  {
   "cell_type": "code",
   "execution_count": 8,
   "metadata": {},
   "outputs": [],
   "source": [
    "data['PPDesc'] = data['Description'].apply(pre_process)"
   ]
  },
  {
   "cell_type": "code",
   "execution_count": 9,
   "metadata": {},
   "outputs": [
    {
     "data": {
      "text/html": [
       "<div>\n",
       "<style scoped>\n",
       "    .dataframe tbody tr th:only-of-type {\n",
       "        vertical-align: middle;\n",
       "    }\n",
       "\n",
       "    .dataframe tbody tr th {\n",
       "        vertical-align: top;\n",
       "    }\n",
       "\n",
       "    .dataframe thead th {\n",
       "        text-align: right;\n",
       "    }\n",
       "</style>\n",
       "<table border=\"1\" class=\"dataframe\">\n",
       "  <thead>\n",
       "    <tr style=\"text-align: right;\">\n",
       "      <th></th>\n",
       "      <th>Unnamed: 0</th>\n",
       "      <th>Index</th>\n",
       "      <th>Name</th>\n",
       "      <th>Description</th>\n",
       "      <th>Employees</th>\n",
       "      <th>Funding</th>\n",
       "      <th>City</th>\n",
       "      <th>Subcountry</th>\n",
       "      <th>Latitude</th>\n",
       "      <th>Longitude</th>\n",
       "      <th>PPDesc</th>\n",
       "    </tr>\n",
       "  </thead>\n",
       "  <tbody>\n",
       "    <tr>\n",
       "      <th>0</th>\n",
       "      <td>0</td>\n",
       "      <td>1</td>\n",
       "      <td>fitin</td>\n",
       "      <td>fitin is the latest fit tech platform that pro...</td>\n",
       "      <td>1.0</td>\n",
       "      <td>NaN</td>\n",
       "      <td>toronto</td>\n",
       "      <td>ontario</td>\n",
       "      <td>43.70011</td>\n",
       "      <td>79.416300</td>\n",
       "      <td>fitin latest fit tech platform provides profes...</td>\n",
       "    </tr>\n",
       "    <tr>\n",
       "      <th>1</th>\n",
       "      <td>1</td>\n",
       "      <td>2</td>\n",
       "      <td>quinditech</td>\n",
       "      <td>our services include independent   collaborati...</td>\n",
       "      <td>10.0</td>\n",
       "      <td>NaN</td>\n",
       "      <td>montreal</td>\n",
       "      <td>quebec</td>\n",
       "      <td>45.50884</td>\n",
       "      <td>73.587810</td>\n",
       "      <td>services include independent collaborative ai ...</td>\n",
       "    </tr>\n",
       "    <tr>\n",
       "      <th>2</th>\n",
       "      <td>2</td>\n",
       "      <td>3</td>\n",
       "      <td>botfirst</td>\n",
       "      <td>chatlanding is a digital chatbot platform wher...</td>\n",
       "      <td>1.0</td>\n",
       "      <td>NaN</td>\n",
       "      <td>toronto</td>\n",
       "      <td>ontario</td>\n",
       "      <td>43.70011</td>\n",
       "      <td>79.416300</td>\n",
       "      <td>chatlanding digital chatbot platform make conv...</td>\n",
       "    </tr>\n",
       "    <tr>\n",
       "      <th>3</th>\n",
       "      <td>3</td>\n",
       "      <td>4</td>\n",
       "      <td>ravver</td>\n",
       "      <td>ai powered army of health professionals in you...</td>\n",
       "      <td>1.0</td>\n",
       "      <td>NaN</td>\n",
       "      <td>quebec</td>\n",
       "      <td>quebec</td>\n",
       "      <td>46.82596</td>\n",
       "      <td>71.235223</td>\n",
       "      <td>ai powered army health professionals pocket fe...</td>\n",
       "    </tr>\n",
       "    <tr>\n",
       "      <th>4</th>\n",
       "      <td>4</td>\n",
       "      <td>5</td>\n",
       "      <td>stylify</td>\n",
       "      <td>stylify is a mobile platform that connects peo...</td>\n",
       "      <td>1.0</td>\n",
       "      <td>NaN</td>\n",
       "      <td>toronto</td>\n",
       "      <td>ontario</td>\n",
       "      <td>43.70011</td>\n",
       "      <td>79.416300</td>\n",
       "      <td>stylify mobile platform connects people local ...</td>\n",
       "    </tr>\n",
       "    <tr>\n",
       "      <th>5</th>\n",
       "      <td>5</td>\n",
       "      <td>6</td>\n",
       "      <td>peloton technologies</td>\n",
       "      <td>peloton has developed a unique banking transac...</td>\n",
       "      <td>10.0</td>\n",
       "      <td>NaN</td>\n",
       "      <td>victoria</td>\n",
       "      <td>british columbia</td>\n",
       "      <td>48.43294</td>\n",
       "      <td>123.369300</td>\n",
       "      <td>peloton developed unique banking transaction p...</td>\n",
       "    </tr>\n",
       "    <tr>\n",
       "      <th>6</th>\n",
       "      <td>6</td>\n",
       "      <td>7</td>\n",
       "      <td>weave travels</td>\n",
       "      <td>weave is a web platform for travel companies. ...</td>\n",
       "      <td>1.0</td>\n",
       "      <td>NaN</td>\n",
       "      <td>toronto</td>\n",
       "      <td>ontario</td>\n",
       "      <td>43.70011</td>\n",
       "      <td>79.416300</td>\n",
       "      <td>weave web platform travel companies allows tou...</td>\n",
       "    </tr>\n",
       "    <tr>\n",
       "      <th>7</th>\n",
       "      <td>7</td>\n",
       "      <td>8</td>\n",
       "      <td>space   york university</td>\n",
       "      <td>yspace supports early stage technology compani...</td>\n",
       "      <td>1.0</td>\n",
       "      <td>NaN</td>\n",
       "      <td>markham</td>\n",
       "      <td>ontario</td>\n",
       "      <td>43.86682</td>\n",
       "      <td>79.266300</td>\n",
       "      <td>yspace supports early stage technology compani...</td>\n",
       "    </tr>\n",
       "    <tr>\n",
       "      <th>8</th>\n",
       "      <td>8</td>\n",
       "      <td>9</td>\n",
       "      <td>glaucus.ai</td>\n",
       "      <td>glaucus.ai offers artificial intelligence for ...</td>\n",
       "      <td>1.0</td>\n",
       "      <td>NaN</td>\n",
       "      <td>montreal</td>\n",
       "      <td>quebec</td>\n",
       "      <td>45.50884</td>\n",
       "      <td>73.587810</td>\n",
       "      <td>glaucus.ai offers artificial intelligence ever...</td>\n",
       "    </tr>\n",
       "    <tr>\n",
       "      <th>9</th>\n",
       "      <td>9</td>\n",
       "      <td>10</td>\n",
       "      <td>magnifi</td>\n",
       "      <td>magnifi is an mobile, on demand video consulti...</td>\n",
       "      <td>10.0</td>\n",
       "      <td>NaN</td>\n",
       "      <td>toronto</td>\n",
       "      <td>ontario</td>\n",
       "      <td>43.70011</td>\n",
       "      <td>79.416300</td>\n",
       "      <td>magnifi mobile demand video consulting marketp...</td>\n",
       "    </tr>\n",
       "  </tbody>\n",
       "</table>\n",
       "</div>"
      ],
      "text/plain": [
       "   Unnamed: 0  Index                     Name  \\\n",
       "0           0      1                   fitin    \n",
       "1           1      2              quinditech    \n",
       "2           2      3                botfirst    \n",
       "3           3      4                   ravver   \n",
       "4           4      5                 stylify    \n",
       "5           5      6    peloton technologies    \n",
       "6           6      7           weave travels    \n",
       "7           7      8  space   york university   \n",
       "8           8      9              glaucus.ai    \n",
       "9           9     10                 magnifi    \n",
       "\n",
       "                                         Description  Employees  Funding  \\\n",
       "0  fitin is the latest fit tech platform that pro...        1.0      NaN   \n",
       "1  our services include independent   collaborati...       10.0      NaN   \n",
       "2  chatlanding is a digital chatbot platform wher...        1.0      NaN   \n",
       "3  ai powered army of health professionals in you...        1.0      NaN   \n",
       "4  stylify is a mobile platform that connects peo...        1.0      NaN   \n",
       "5  peloton has developed a unique banking transac...       10.0      NaN   \n",
       "6  weave is a web platform for travel companies. ...        1.0      NaN   \n",
       "7  yspace supports early stage technology compani...        1.0      NaN   \n",
       "8  glaucus.ai offers artificial intelligence for ...        1.0      NaN   \n",
       "9  magnifi is an mobile, on demand video consulti...       10.0      NaN   \n",
       "\n",
       "       City        Subcountry  Latitude   Longitude  \\\n",
       "0   toronto           ontario  43.70011   79.416300   \n",
       "1  montreal            quebec  45.50884   73.587810   \n",
       "2   toronto           ontario  43.70011   79.416300   \n",
       "3    quebec            quebec  46.82596   71.235223   \n",
       "4   toronto           ontario  43.70011   79.416300   \n",
       "5  victoria  british columbia  48.43294  123.369300   \n",
       "6   toronto           ontario  43.70011   79.416300   \n",
       "7   markham           ontario  43.86682   79.266300   \n",
       "8  montreal            quebec  45.50884   73.587810   \n",
       "9   toronto           ontario  43.70011   79.416300   \n",
       "\n",
       "                                              PPDesc  \n",
       "0  fitin latest fit tech platform provides profes...  \n",
       "1  services include independent collaborative ai ...  \n",
       "2  chatlanding digital chatbot platform make conv...  \n",
       "3  ai powered army health professionals pocket fe...  \n",
       "4  stylify mobile platform connects people local ...  \n",
       "5  peloton developed unique banking transaction p...  \n",
       "6  weave web platform travel companies allows tou...  \n",
       "7  yspace supports early stage technology compani...  \n",
       "8  glaucus.ai offers artificial intelligence ever...  \n",
       "9  magnifi mobile demand video consulting marketp...  "
      ]
     },
     "execution_count": 9,
     "metadata": {},
     "output_type": "execute_result"
    }
   ],
   "source": [
    "data.head(10)"
   ]
  },
  {
   "cell_type": "markdown",
   "metadata": {},
   "source": [
    "### 3.2. Setup da Formação do Espaço Semântico"
   ]
  },
  {
   "cell_type": "code",
   "execution_count": 10,
   "metadata": {},
   "outputs": [],
   "source": [
    "# Essas são as expressões que definem (limitam, no sentido semântico) o target. Ênfase foi dada na palavra 'water' para garantir que a mesma seja determinante nas\n",
    "limiter_expressions = [\n",
    "    'solutions waste water water'\n",
    "    ,'improve water water quality water water efficiency use'\n",
    "    ,'water water contamination'\n",
    "    ,'water water human consumption'\n",
    "    ,'water water resources'\n",
    "]"
   ]
  },
  {
   "cell_type": "code",
   "execution_count": 11,
   "metadata": {},
   "outputs": [
    {
     "data": {
      "text/plain": [
       "TensorShape([5, 512])"
      ]
     },
     "execution_count": 11,
     "metadata": {},
     "output_type": "execute_result"
    }
   ],
   "source": [
    "reference = use(limiter_expressions)\n",
    "\n",
    "reference.shape"
   ]
  },
  {
   "cell_type": "code",
   "execution_count": 12,
   "metadata": {},
   "outputs": [],
   "source": [
    "def distance(block, reference_embeddings):\n",
    "    emb = use([block])\n",
    "\n",
    "    min_dist = float('inf')\n",
    "    for i in range(reference_embeddings.shape[0]):\n",
    "        emb_ref = reference_embeddings[i,:]\n",
    "\n",
    "        dist = np.linalg.norm(emb - emb_ref) # Usando distância Euclidiana em função de estarmos interessados na magnitude da distância.\n",
    "\n",
    "        if dist < min_dist:\n",
    "            min_dist = dist\n",
    "\n",
    "    return min_dist\n"
   ]
  },
  {
   "cell_type": "code",
   "execution_count": 13,
   "metadata": {},
   "outputs": [
    {
     "data": {
      "text/plain": [
       "[0.7895613, 1.2858443, 0.36531618, 0.87889045, 1.0742764]"
      ]
     },
     "execution_count": 13,
     "metadata": {},
     "output_type": "execute_result"
    }
   ],
   "source": [
    "expr = ['solutions on waste and water', 'transportation management', 'water contamination', 'land contamination', 'hydric resources management']\n",
    "[distance(e, reference) for e in expr]"
   ]
  },
  {
   "cell_type": "code",
   "execution_count": 14,
   "metadata": {},
   "outputs": [],
   "source": [
    "def split_into_blocks(text:str, block_size:int, interesection:int):\n",
    "    if interesection >= block_size:\n",
    "        raise ValueError(f'A interseção ({interesection}) precisa ser menor que o tamanho do bloco ({block_size}).')\n",
    "\n",
    "    words = text.split(' ')\n",
    "    N = len(words)\n",
    "\n",
    "    if N < 4:\n",
    "        words += [' '] + ['aaa'] * (4 - N)\n",
    "        N = 4\n",
    "\n",
    "    if block_size > N:\n",
    "        raise ValueError(f'O tamanho do bloco ({block_size}) precisa ser menor ou igual ao número de palavras da descrição ({N}).')\n",
    "\n",
    "    step = block_size - interesection\n",
    "    max_index = min(N - block_size + 1, N)\n",
    "    convolution_map = [list(range(i, i + block_size)) for i in range(0, max_index , step)]\n",
    "\n",
    "    blocks = []\n",
    "    for m in convolution_map:\n",
    "        block = ' '.join(words[i] for i in m)\n",
    "        blocks.append(block)\n",
    "\n",
    "    return blocks\n"
   ]
  },
  {
   "cell_type": "code",
   "execution_count": 15,
   "metadata": {},
   "outputs": [
    {
     "data": {
      "text/plain": [
       "['aaa bbb ccc',\n",
       " 'bbb ccc ddd',\n",
       " 'ccc ddd eee',\n",
       " 'ddd eee fff',\n",
       " 'eee fff ggg',\n",
       " 'fff ggg hhh',\n",
       " 'ggg hhh iii',\n",
       " 'hhh iii jjj']"
      ]
     },
     "execution_count": 15,
     "metadata": {},
     "output_type": "execute_result"
    }
   ],
   "source": [
    "tst = 'aaa bbb ccc ddd eee fff ggg hhh iii jjj'\n",
    "split_into_blocks(tst, 3, 2)"
   ]
  },
  {
   "cell_type": "code",
   "execution_count": 16,
   "metadata": {},
   "outputs": [],
   "source": [
    "def update_min_values(value:float, min_values:list):\n",
    "    mv = list(min_values)\n",
    "\n",
    "    N = len(mv)\n",
    "    for i in range(N):\n",
    "        if value == mv[i]:\n",
    "            break\n",
    "        elif value < mv[i]:\n",
    "            tmp = mv[i:N - 1]\n",
    "            mv[i] = value\n",
    "            mv[i + 1:N] = tmp\n",
    "\n",
    "            break\n",
    "\n",
    "    return mv"
   ]
  },
  {
   "cell_type": "code",
   "execution_count": 17,
   "metadata": {},
   "outputs": [
    {
     "data": {
      "text/plain": [
       "[6, 9, 12, 13]"
      ]
     },
     "execution_count": 17,
     "metadata": {},
     "output_type": "execute_result"
    }
   ],
   "source": [
    "a = [6, 9, 12, 15]\n",
    "b = 13\n",
    "\n",
    "update_min_values(b, a)"
   ]
  },
  {
   "cell_type": "code",
   "execution_count": 18,
   "metadata": {},
   "outputs": [],
   "source": [
    "def stub_distance(block:str, reference_blocks): # Função destinada apenas a testar a convolução, sem depender das distâncias em si.\n",
    "    return len(block)"
   ]
  },
  {
   "cell_type": "code",
   "execution_count": 19,
   "metadata": {},
   "outputs": [
    {
     "data": {
      "text/plain": [
       "5"
      ]
     },
     "execution_count": 19,
     "metadata": {},
     "output_type": "execute_result"
    }
   ],
   "source": [
    "a = 'asdfg'\n",
    "stub_distance(a, reference)"
   ]
  },
  {
   "cell_type": "code",
   "execution_count": 20,
   "metadata": {},
   "outputs": [],
   "source": [
    "def convolve_over_text(text:str, block_size:int, intersection:int, num_min_distances:int, reference_embeddings:np.array, distance_function:Callable):\n",
    "    blocks = split_into_blocks(text, block_size, intersection)\n",
    "\n",
    "    min_dist = [float('inf')] * num_min_distances\n",
    "\n",
    "    for b in blocks:\n",
    "        dist = distance_function(b, reference_embeddings)\n",
    "\n",
    "        min_dist = update_min_values(dist, min_dist)\n",
    "\n",
    "    return min_dist"
   ]
  },
  {
   "cell_type": "code",
   "execution_count": 21,
   "metadata": {},
   "outputs": [
    {
     "data": {
      "text/plain": [
       "[6, 7]"
      ]
     },
     "execution_count": 21,
     "metadata": {},
     "output_type": "execute_result"
    }
   ],
   "source": [
    "txt = 'a b sd trft kl kkkk de w dd fffff'\n",
    "convolve_over_text(txt, 3, 2, 2, reference, stub_distance)"
   ]
  },
  {
   "cell_type": "markdown",
   "metadata": {},
   "source": [
    "### 3.2. Formação do Espaço Semântico"
   ]
  },
  {
   "cell_type": "markdown",
   "metadata": {},
   "source": [
    "Está sendo utilizado um espaço vetorial bidimensional, em primeiro lugar porque a tarefa assim o permite e, em segundo lugar, porque isso grandemente facilita a visualização e a explicabilidade do modelo e de seus resultados."
   ]
  },
  {
   "cell_type": "code",
   "execution_count": 22,
   "metadata": {},
   "outputs": [
    {
     "name": "stderr",
     "output_type": "stream",
     "text": [
      "100%|██████████| 21289/21289 [48:49<00:00,  7.27it/s]  \n"
     ]
    }
   ],
   "source": [
    "block_size = 3\n",
    "intersection = 2\n",
    "num_distances = 2\n",
    "\n",
    "distances = []\n",
    "for _, row in tqdm(data.iterrows(), total=len(data)):\n",
    "    desc = row['PPDesc']\n",
    "\n",
    "    minimum = convolve_over_text(desc, block_size, intersection, num_distances, reference, distance)\n",
    "\n",
    "    distances.append(minimum)"
   ]
  },
  {
   "cell_type": "code",
   "execution_count": 23,
   "metadata": {},
   "outputs": [
    {
     "data": {
      "text/plain": [
       "(21289, 2)"
      ]
     },
     "execution_count": 23,
     "metadata": {},
     "output_type": "execute_result"
    }
   ],
   "source": [
    "dists = np.array(distances)\n",
    "dists.shape"
   ]
  },
  {
   "cell_type": "code",
   "execution_count": 24,
   "metadata": {},
   "outputs": [],
   "source": [
    "d1 = dists[:,0].transpose()\n",
    "d2 = dists[:,1].transpose()"
   ]
  },
  {
   "cell_type": "code",
   "execution_count": 137,
   "metadata": {},
   "outputs": [],
   "source": [
    "data['Dist1'] = d1\n",
    "data['Dist2'] = d2"
   ]
  },
  {
   "cell_type": "code",
   "execution_count": 395,
   "metadata": {},
   "outputs": [],
   "source": [
    "radius = 1.3 # Definição arbitrária, mas baseada em inspeção visual nuvem de dados. APenas para auxílio à visualização.\n",
    "\n",
    "data['DistFromOrigin'] = data['Dist1'] ** 2 + data['Dist2'] ** 2\n",
    "\n",
    "unitary = data[data['DistFromOrigin'] <= radius]"
   ]
  },
  {
   "cell_type": "code",
   "execution_count": 406,
   "metadata": {},
   "outputs": [
    {
     "data": {
      "image/png": "[encoded data removed]",
      "text/plain": [
       "<Figure size 640x480 with 1 Axes>"
      ]
     },
     "metadata": {},
     "output_type": "display_data"
    }
   ],
   "source": [
    "data.plot.scatter(x='Dist1', y='Dist2', s=1)\n",
    "\n",
    "a1 = np.deg2rad(0)\n",
    "a2 = np.deg2rad(90)\n",
    "\n",
    "ang = np.linspace(a1, a2, 100)\n",
    "\n",
    "x = radius * np.cos(ang)\n",
    "y = radius * np.sin(ang)\n",
    "\n",
    "plt.plot(x, y, color='red', linewidth=0.5)\n",
    "\n",
    "plt.axis('equal')\n",
    "plt.grid(True)"
   ]
  },
  {
   "cell_type": "markdown",
   "metadata": {},
   "source": [
    "### 3.3. Separação do Espaço Semântico"
   ]
  },
  {
   "cell_type": "markdown",
   "metadata": {},
   "source": [
    "Como a nuvem de pontos dentro do círculo acima é extremamente pouco densa em relação à nuvem fora do círculo, a clusterização orientada à separação semântica encontrada, se tentada por métodos como K-means, DBSCAN ou mesmo GMM, é muito desafiadora (...e o prazo para a entrega da prova está acabando, para ser sincero... :P ).\n",
    "\n",
    "No entanto, como o espaço é de baixa dimensionalidade, a circunferência arbitrária acima pode servir como uma proxy de limite de cluster."
   ]
  },
  {
   "cell_type": "code",
   "execution_count": 397,
   "metadata": {},
   "outputs": [],
   "source": [
    "data['Labels'] = ['Out-of-Target'] * len(data)\n",
    "data.loc[data['DistFromOrigin'] <= radius, 'Labels'] = 'Target'"
   ]
  },
  {
   "cell_type": "code",
   "execution_count": 398,
   "metadata": {},
   "outputs": [
    {
     "data": {
      "text/plain": [
       "(134, 21155)"
      ]
     },
     "execution_count": 398,
     "metadata": {},
     "output_type": "execute_result"
    }
   ],
   "source": [
    "(len(data[data['Labels'] == 'Target']), len(data[data['Labels'] != 'Target']))"
   ]
  },
  {
   "cell_type": "code",
   "execution_count": 399,
   "metadata": {},
   "outputs": [],
   "source": [
    "target = data[data['Labels'] == 'Target']"
   ]
  },
  {
   "cell_type": "code",
   "execution_count": 400,
   "metadata": {},
   "outputs": [
    {
     "data": {
      "text/plain": [
       "134"
      ]
     },
     "execution_count": 400,
     "metadata": {},
     "output_type": "execute_result"
    }
   ],
   "source": [
    "len(target[target['Description'].str.contains('water')])"
   ]
  },
  {
   "cell_type": "markdown",
   "metadata": {},
   "source": [
    "## 4. Gravação das Empresas Selecionadas"
   ]
  },
  {
   "cell_type": "code",
   "execution_count": null,
   "metadata": {},
   "outputs": [],
   "source": [
    "data[data['Labels'] == 'Target'].to_csv('Dados\\\\target.csv')"
   ]
  }
 ],
 "metadata": {
  "kernelspec": {
   "display_name": "Python 3",
   "language": "python",
   "name": "python3"
  },
  "language_info": {
   "codemirror_mode": {
    "name": "ipython",
    "version": 3
   },
   "file_extension": ".py",
   "mimetype": "text/x-python",
   "name": "python",
   "nbconvert_exporter": "python",
   "pygments_lexer": "ipython3",
   "version": "3.11.2"
  }
 },
 "nbformat": 4,
 "nbformat_minor": 2
}
